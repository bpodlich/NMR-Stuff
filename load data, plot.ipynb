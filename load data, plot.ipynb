{
 "cells": [
  {
   "cell_type": "code",
   "execution_count": 62,
   "metadata": {},
   "outputs": [
    {
     "ename": "NameError",
     "evalue": "name 'baseline' is not defined",
     "output_type": "error",
     "traceback": [
      "\u001b[1;31m---------------------------------------------------------------------------\u001b[0m",
      "\u001b[1;31mNameError\u001b[0m                                 Traceback (most recent call last)",
      "\u001b[1;32m<ipython-input-62-97d42a67b325>\u001b[0m in \u001b[0;36m<module>\u001b[1;34m\u001b[0m\n\u001b[0;32m     27\u001b[0m \u001b[1;33m\u001b[0m\u001b[0m\n\u001b[0;32m     28\u001b[0m \u001b[0mseperate\u001b[0m\u001b[1;33m(\u001b[0m\u001b[1;33m)\u001b[0m\u001b[1;33m\u001b[0m\u001b[1;33m\u001b[0m\u001b[0m\n\u001b[1;32m---> 29\u001b[1;33m \u001b[0mprint\u001b[0m\u001b[1;33m(\u001b[0m\u001b[0mbaseline\u001b[0m\u001b[1;33m)\u001b[0m\u001b[1;33m\u001b[0m\u001b[1;33m\u001b[0m\u001b[0m\n\u001b[0m\u001b[0;32m     30\u001b[0m \u001b[1;31m##Questions: how to use zip\u001b[0m\u001b[1;33m\u001b[0m\u001b[1;33m\u001b[0m\u001b[1;33m\u001b[0m\u001b[0m\n\u001b[0;32m     31\u001b[0m \u001b[1;31m#What is the frequency MHz?\u001b[0m\u001b[1;33m\u001b[0m\u001b[1;33m\u001b[0m\u001b[1;33m\u001b[0m\u001b[0m\n",
      "\u001b[1;31mNameError\u001b[0m: name 'baseline' is not defined"
     ]
    }
   ],
   "source": [
    "import math\n",
    "import numpy as np\n",
    "import matplotlib.pylab as plt\n",
    "import pandas as pd\n",
    "from pathlib import Path  # pathlib.Path formats pathnames to suit your operating system\n",
    "\n",
    "# \"notebook\" plotting mode allows for interactive (zoom-able) plots, \"inline\" doesn't\n",
    "%matplotlib notebook   \n",
    "# %matplotlib inline\n",
    "\n",
    "#function to load the datafile\n",
    "# find and parse data into baseline , null, TE , and Polarized\n",
    "def (filename = 'test_data.csv'):\n",
    "    df = pd.read_csv(filename)\n",
    "    \n",
    "    #remove any rows with ---, null readings\n",
    "    df.drop(df[df[\"NMR Status\"]=='---'].index, inplace=True)\n",
    "    \n",
    "    #add values to different sets based on NMR status column\n",
    "    baseline = pd.DataFrame(df.loc[df['NMR Status']=='Baseline'])\n",
    "    thermal = pd.DataFrame(df.loc[df['NMR Status']=='TE'])\n",
    "    polarized = pd.DataFrame(df.loc[df['NMR Status']=='Polarization'])\n",
    "    \n",
    "#in case I need to average those NMR data columns, not sure\n",
    "for x in \n",
    "mean_col = df['NMR data'].mean\n",
    "\n",
    "#in case i need to average across NMR data rows\n",
    "            \n",
    "\n",
    "\n",
    "seperate()\n",
    "print(baseline)\n",
    "##Questions:\n",
    "#how to use zip\n",
    "#What is the column name for frequency MHz?\n",
    "#how to return df from function inputed file so i can do more stuff to it? \n",
    "#should i split these functions and act them all seperately? yes i should\n",
    "\n",
    "\n",
    "#scatter plots made using kind argument, specify plot type and axises\n",
    "#df.plot(kind = 'scatter', x='WTF IS MHZ',y='NMR Average')\n",
    "#plt.show()"
   ]
  },
  {
   "cell_type": "code",
   "execution_count": null,
   "metadata": {},
   "outputs": [],
   "source": []
  }
 ],
 "metadata": {
  "kernelspec": {
   "display_name": "Python 3",
   "language": "python",
   "name": "python3"
  },
  "language_info": {
   "codemirror_mode": {
    "name": "ipython",
    "version": 3
   },
   "file_extension": ".py",
   "mimetype": "text/x-python",
   "name": "python",
   "nbconvert_exporter": "python",
   "pygments_lexer": "ipython3",
   "version": "3.8.5"
  }
 },
 "nbformat": 4,
 "nbformat_minor": 4
}
